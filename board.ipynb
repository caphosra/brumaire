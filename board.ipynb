{
 "cells": [
  {
   "cell_type": "code",
   "execution_count": 1,
   "metadata": {},
   "outputs": [],
   "source": [
    "import numpy as np\n",
    "\n",
    "from brumaire.board import BoardData, generate_board\n",
    "import brumaire"
   ]
  },
  {
   "cell_type": "code",
   "execution_count": 2,
   "metadata": {},
   "outputs": [],
   "source": [
    "BOARD_NUM = 3"
   ]
  },
  {
   "cell_type": "code",
   "execution_count": 3,
   "metadata": {},
   "outputs": [
    {
     "data": {
      "text/plain": [
       "array([[1., 0., 0., 0.],\n",
       "       [1., 0., 1., 0.],\n",
       "       [1., 3., 0., 0.],\n",
       "       [1., 0., 2., 0.],\n",
       "       [1., 3., 1., 0.],\n",
       "       [1., 3., 2., 0.],\n",
       "       [1., 4., 0., 0.],\n",
       "       [1., 4., 1., 0.],\n",
       "       [1., 1., 0., 0.],\n",
       "       [0., 0., 0., 0.],\n",
       "       [1., 3., 3., 0.],\n",
       "       [1., 0., 3., 0.],\n",
       "       [1., 2., 0., 0.],\n",
       "       [1., 4., 2., 0.],\n",
       "       [1., 1., 1., 0.],\n",
       "       [1., 2., 1., 0.],\n",
       "       [1., 0., 4., 0.],\n",
       "       [1., 1., 2., 0.],\n",
       "       [1., 4., 3., 0.],\n",
       "       [0., 0., 0., 0.],\n",
       "       [1., 1., 3., 0.],\n",
       "       [1., 2., 2., 0.],\n",
       "       [1., 0., 5., 0.],\n",
       "       [1., 3., 4., 0.],\n",
       "       [1., 3., 5., 0.],\n",
       "       [1., 2., 3., 0.],\n",
       "       [1., 4., 4., 0.],\n",
       "       [1., 2., 4., 0.],\n",
       "       [1., 1., 4., 0.],\n",
       "       [1., 4., 5., 0.],\n",
       "       [1., 1., 5., 0.],\n",
       "       [1., 4., 6., 0.],\n",
       "       [1., 1., 6., 0.],\n",
       "       [1., 0., 6., 0.],\n",
       "       [1., 1., 7., 0.],\n",
       "       [1., 3., 6., 0.],\n",
       "       [1., 4., 7., 0.],\n",
       "       [1., 2., 5., 0.],\n",
       "       [1., 3., 7., 0.],\n",
       "       [1., 2., 6., 0.],\n",
       "       [1., 2., 7., 0.],\n",
       "       [1., 2., 8., 0.],\n",
       "       [1., 0., 7., 0.],\n",
       "       [1., 1., 8., 0.],\n",
       "       [1., 2., 9., 0.],\n",
       "       [1., 0., 8., 0.],\n",
       "       [1., 4., 8., 0.],\n",
       "       [1., 3., 8., 0.],\n",
       "       [1., 4., 9., 0.],\n",
       "       [0., 0., 0., 0.],\n",
       "       [0., 0., 0., 0.],\n",
       "       [1., 3., 9., 0.],\n",
       "       [1., 0., 9., 0.],\n",
       "       [1., 1., 9., 0.]])"
      ]
     },
     "execution_count": 3,
     "metadata": {},
     "output_type": "execute_result"
    }
   ],
   "source": [
    "board = generate_board(BOARD_NUM)\n",
    "board.cards[0]"
   ]
  },
  {
   "cell_type": "code",
   "execution_count": 4,
   "metadata": {},
   "outputs": [],
   "source": [
    "board.roles = np.repeat(np.array([[\n",
    "    brumaire.ROLE_NAPOLEON,\n",
    "    brumaire.ROLE_ALLY,\n",
    "    brumaire.ROLE_ALLY,\n",
    "    brumaire.ROLE_ALLY,\n",
    "    brumaire.ROLE_ADJUTANT\n",
    "]]), BOARD_NUM, axis=0)\n",
    "board.cards[:, brumaire.SUIT_SPADE * 13 + 12, 3] = 1"
   ]
  },
  {
   "cell_type": "code",
   "execution_count": 5,
   "metadata": {},
   "outputs": [
    {
     "data": {
      "text/plain": [
       "array([[0., 0., 0., 0.],\n",
       "       [0., 0., 0., 0.],\n",
       "       [0., 0., 0., 0.],\n",
       "       [0., 0., 0., 0.],\n",
       "       [0., 0., 0., 0.],\n",
       "       [0., 0., 0., 0.],\n",
       "       [0., 0., 0., 0.],\n",
       "       [0., 0., 0., 0.],\n",
       "       [1., 0., 0., 0.],\n",
       "       [0., 0., 0., 0.],\n",
       "       [0., 0., 0., 0.],\n",
       "       [0., 0., 0., 0.],\n",
       "       [0., 0., 0., 0.],\n",
       "       [0., 0., 0., 0.],\n",
       "       [1., 0., 1., 0.],\n",
       "       [0., 0., 0., 0.],\n",
       "       [0., 0., 0., 0.],\n",
       "       [1., 0., 2., 0.],\n",
       "       [0., 0., 0., 0.],\n",
       "       [0., 0., 0., 0.],\n",
       "       [1., 0., 3., 0.],\n",
       "       [0., 0., 0., 0.],\n",
       "       [0., 0., 0., 0.],\n",
       "       [0., 0., 0., 0.],\n",
       "       [0., 0., 0., 0.],\n",
       "       [0., 0., 0., 0.],\n",
       "       [0., 0., 0., 0.],\n",
       "       [0., 0., 0., 0.],\n",
       "       [1., 0., 4., 0.],\n",
       "       [0., 0., 0., 0.],\n",
       "       [1., 0., 5., 0.],\n",
       "       [0., 0., 0., 0.],\n",
       "       [1., 0., 6., 0.],\n",
       "       [0., 0., 0., 0.],\n",
       "       [1., 0., 7., 0.],\n",
       "       [0., 0., 0., 0.],\n",
       "       [0., 0., 0., 0.],\n",
       "       [0., 0., 0., 0.],\n",
       "       [0., 0., 0., 0.],\n",
       "       [0., 0., 0., 0.],\n",
       "       [0., 0., 0., 0.],\n",
       "       [0., 0., 0., 0.],\n",
       "       [0., 0., 0., 0.],\n",
       "       [1., 0., 8., 0.],\n",
       "       [0., 0., 0., 0.],\n",
       "       [0., 0., 0., 0.],\n",
       "       [0., 0., 0., 0.],\n",
       "       [0., 0., 0., 0.],\n",
       "       [0., 0., 0., 0.],\n",
       "       [0., 0., 0., 0.],\n",
       "       [0., 0., 0., 0.],\n",
       "       [0., 0., 0., 0.],\n",
       "       [0., 0., 0., 0.],\n",
       "       [1., 0., 9., 0.]])"
      ]
     },
     "execution_count": 5,
     "metadata": {},
     "output_type": "execute_result"
    }
   ],
   "source": [
    "board = board.change_perspective(1)\n",
    "board.cards[0]"
   ]
  },
  {
   "cell_type": "code",
   "execution_count": 6,
   "metadata": {},
   "outputs": [
    {
     "data": {
      "text/plain": [
       "array([[3, 0, 0, 0, 1],\n",
       "       [3, 0, 0, 0, 1],\n",
       "       [3, 0, 0, 0, 1]])"
      ]
     },
     "execution_count": 6,
     "metadata": {},
     "output_type": "execute_result"
    }
   ],
   "source": [
    "board.roles"
   ]
  }
 ],
 "metadata": {
  "kernelspec": {
   "display_name": ".venv",
   "language": "python",
   "name": "python3"
  },
  "language_info": {
   "codemirror_mode": {
    "name": "ipython",
    "version": 3
   },
   "file_extension": ".py",
   "mimetype": "text/x-python",
   "name": "python",
   "nbconvert_exporter": "python",
   "pygments_lexer": "ipython3",
   "version": "3.12.1"
  }
 },
 "nbformat": 4,
 "nbformat_minor": 2
}
