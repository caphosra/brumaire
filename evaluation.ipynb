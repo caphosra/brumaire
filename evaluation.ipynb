{
 "cells": [
  {
   "cell_type": "markdown",
   "metadata": {},
   "source": [
    "# Trained-Model Evaluation"
   ]
  },
  {
   "cell_type": "code",
   "execution_count": 1,
   "metadata": {},
   "outputs": [],
   "source": [
    "import torch\n",
    "import numpy as np\n",
    "\n",
    "from brumaire.model import BrumaireHParams, BrumaireController\n",
    "from brumaire.agent import RandomAgent, BrumaireAgent\n",
    "from brumaire.session import Game"
   ]
  },
  {
   "cell_type": "markdown",
   "metadata": {},
   "source": [
    "## Hyperparameters"
   ]
  },
  {
   "cell_type": "code",
   "execution_count": 2,
   "metadata": {},
   "outputs": [],
   "source": [
    "EVAL_BOARD_NUM = 10000\n",
    "\n",
    "DECL_L1_NODE = 1000\n",
    "DECL_L2_NODE = 1000\n",
    "\n",
    "L1_NODE = 4000\n",
    "L2_NODE = 2000\n",
    "L3_NODE = 1000\n",
    "\n",
    "SAVED_DIR = \"./runs/trial-2024-02-21T16-46-28.860778/\""
   ]
  },
  {
   "cell_type": "code",
   "execution_count": 3,
   "metadata": {},
   "outputs": [],
   "source": [
    "h_params = BrumaireHParams()\n",
    "h_params.decl_l1_node = DECL_L1_NODE\n",
    "h_params.decl_l2_node = DECL_L2_NODE\n",
    "h_params.l1_node = L1_NODE\n",
    "h_params.l2_node = L2_NODE\n",
    "h_params.l3_node = L3_NODE"
   ]
  },
  {
   "cell_type": "markdown",
   "metadata": {},
   "source": [
    "Use a CUDA device if available."
   ]
  },
  {
   "cell_type": "code",
   "execution_count": 4,
   "metadata": {},
   "outputs": [],
   "source": [
    "device = torch.device(\"cuda\" if torch.cuda.is_available() else \"cpu\")"
   ]
  },
  {
   "cell_type": "markdown",
   "metadata": {},
   "source": [
    "## Setup"
   ]
  },
  {
   "cell_type": "markdown",
   "metadata": {},
   "source": [
    "Load a trained model from the file and make a new agent that follows the model."
   ]
  },
  {
   "cell_type": "code",
   "execution_count": 5,
   "metadata": {},
   "outputs": [],
   "source": [
    "controller = BrumaireController(h_params, device, None)\n",
    "controller.load(SAVED_DIR)\n",
    "agent = BrumaireAgent(controller)"
   ]
  },
  {
   "cell_type": "markdown",
   "metadata": {},
   "source": [
    "Choose opponent agents."
   ]
  },
  {
   "cell_type": "code",
   "execution_count": 6,
   "metadata": {},
   "outputs": [],
   "source": [
    "opponent_agent = RandomAgent()\n",
    "AGENTS = [\n",
    "    agent,\n",
    "    opponent_agent,\n",
    "    opponent_agent,\n",
    "    opponent_agent,\n",
    "    opponent_agent\n",
    "]"
   ]
  },
  {
   "cell_type": "markdown",
   "metadata": {},
   "source": [
    "## Evaluation"
   ]
  },
  {
   "cell_type": "code",
   "execution_count": 7,
   "metadata": {},
   "outputs": [],
   "source": [
    "game = Game(EVAL_BOARD_NUM, AGENTS, log_enabled=True)\n",
    "game.decide_napoleon()\n",
    "game.discard_additional_cards()\n",
    "for idx in range(10):\n",
    "    game.trick(idx)\n",
    "game.check_result()"
   ]
  },
  {
   "cell_type": "markdown",
   "metadata": {},
   "source": [
    "An average of rewards the agent earns."
   ]
  },
  {
   "cell_type": "code",
   "execution_count": 8,
   "metadata": {},
   "outputs": [
    {
     "name": "stdout",
     "output_type": "stream",
     "text": [
      "0.8528840000000124\n"
     ]
    }
   ],
   "source": [
    "reward = np.sum(np.sum(game.recorder.rewards, axis=1), axis=1)[0] / EVAL_BOARD_NUM\n",
    "print(reward)"
   ]
  },
  {
   "cell_type": "markdown",
   "metadata": {},
   "source": [
    "A win rate of the agent."
   ]
  },
  {
   "cell_type": "code",
   "execution_count": 9,
   "metadata": {},
   "outputs": [
    {
     "name": "stdout",
     "output_type": "stream",
     "text": [
      "0.7571\n"
     ]
    }
   ],
   "source": [
    "win_rate = np.sum(game.recorder.winners, axis=1)[0] / EVAL_BOARD_NUM\n",
    "print(win_rate)"
   ]
  },
  {
   "cell_type": "markdown",
   "metadata": {},
   "source": [
    "An average of win rates of agents. This is not obvious because a number of winners of a game is not constant (1-4) on Napoleon."
   ]
  },
  {
   "cell_type": "code",
   "execution_count": 10,
   "metadata": {},
   "outputs": [
    {
     "name": "stdout",
     "output_type": "stream",
     "text": [
      "0.64074\n"
     ]
    }
   ],
   "source": [
    "total_win_rate = np.sum(game.recorder.winners) / EVAL_BOARD_NUM / 5\n",
    "print(total_win_rate)"
   ]
  },
  {
   "cell_type": "markdown",
   "metadata": {},
   "source": [
    "A difference between a win rate of the agent and an average of others."
   ]
  },
  {
   "cell_type": "code",
   "execution_count": 11,
   "metadata": {},
   "outputs": [
    {
     "name": "stdout",
     "output_type": "stream",
     "text": [
      "0.11636000000000002\n"
     ]
    }
   ],
   "source": [
    "print(win_rate - total_win_rate)"
   ]
  }
 ],
 "metadata": {
  "kernelspec": {
   "display_name": ".venv",
   "language": "python",
   "name": "python3"
  },
  "language_info": {
   "codemirror_mode": {
    "name": "ipython",
    "version": 3
   },
   "file_extension": ".py",
   "mimetype": "text/x-python",
   "name": "python",
   "nbconvert_exporter": "python",
   "pygments_lexer": "ipython3",
   "version": "3.12.1"
  }
 },
 "nbformat": 4,
 "nbformat_minor": 2
}
