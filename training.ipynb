{
 "cells": [
  {
   "cell_type": "markdown",
   "metadata": {},
   "source": [
    "# Training Napoleon AI named Brumaire"
   ]
  },
  {
   "cell_type": "code",
   "execution_count": null,
   "metadata": {},
   "outputs": [],
   "source": [
    "import torch\n",
    "import numpy as np\n",
    "from torch.utils.tensorboard import SummaryWriter\n",
    "from datetime import datetime\n",
    "\n",
    "from brumaire.model import BrumaireHParams, BrumaireController\n",
    "from brumaire.agent import RandomAgent, BrumaireAgent\n",
    "from brumaire.session import Game"
   ]
  },
  {
   "cell_type": "markdown",
   "metadata": {},
   "source": [
    "## Hyperparameters"
   ]
  },
  {
   "cell_type": "code",
   "execution_count": null,
   "metadata": {},
   "outputs": [],
   "source": [
    "EPISODE_NUM = 500\n",
    "\n",
    "TRAIN_EPOCH = 3\n",
    "BATCH_SIZE = 300\n",
    "TEST_SIZE = 100\n",
    "\n",
    "EVAL_BOARD_NUM = 10000\n",
    "EVAL_INTERVALS = 5\n",
    "\n",
    "AGENT_SWITCH_INTERVALS = 1000\n",
    "\n",
    "DECL_L1_NODE = 4000\n",
    "DECL_L2_NODE = 2000\n",
    "\n",
    "DECL_ITA = 0.001\n",
    "DECL_CLIP_GRAD = 10.0\n",
    "\n",
    "L1_NODE = 4000\n",
    "L2_NODE = 2000\n",
    "L3_NODE = 1000\n",
    "\n",
    "ITA = 0.0005\n",
    "GAMMA = 0.97\n",
    "CLIP_GRAD = 10.0\n",
    "\n",
    "EPSILON = 0.8\n",
    "EPSILON_DEC_RATE = 0.99\n",
    "\n",
    "RUN_NAME = f\"trial-{datetime.now().strftime('%Y-%m-%dT%H-%M-%S.%f')}\""
   ]
  },
  {
   "cell_type": "markdown",
   "metadata": {},
   "source": [
    "Note hyperparameters in a log. This can be viewed with Tensorboard."
   ]
  },
  {
   "cell_type": "code",
   "execution_count": null,
   "metadata": {},
   "outputs": [],
   "source": [
    "writer = SummaryWriter(f\"./runs/{RUN_NAME}\")\n",
    "\n",
    "h_params = BrumaireHParams()\n",
    "h_params.decl_l1_node = DECL_L1_NODE\n",
    "h_params.decl_l2_node = DECL_L2_NODE\n",
    "h_params.decl_ita = DECL_ITA\n",
    "h_params.decl_clip_grad = DECL_CLIP_GRAD\n",
    "h_params.l1_node = L1_NODE\n",
    "h_params.l2_node = L2_NODE\n",
    "h_params.l3_node = L3_NODE\n",
    "h_params.ita = ITA\n",
    "h_params.gamma = GAMMA\n",
    "h_params.clip_grad = CLIP_GRAD\n",
    "h_params.write_summary(writer)"
   ]
  },
  {
   "cell_type": "markdown",
   "metadata": {},
   "source": [
    "Use a CUDA device if available."
   ]
  },
  {
   "cell_type": "code",
   "execution_count": null,
   "metadata": {},
   "outputs": [],
   "source": [
    "device = torch.device(\"cuda\" if torch.cuda.is_available() else \"cpu\")"
   ]
  },
  {
   "cell_type": "markdown",
   "metadata": {},
   "source": [
    "## Setup an agent and its model"
   ]
  },
  {
   "cell_type": "code",
   "execution_count": null,
   "metadata": {},
   "outputs": [],
   "source": [
    "controller = BrumaireController(h_params, device, writer)\n",
    "agent = BrumaireAgent(controller, epsilon=EPSILON)\n",
    "opponent_agent = RandomAgent()"
   ]
  },
  {
   "cell_type": "code",
   "execution_count": null,
   "metadata": {},
   "outputs": [],
   "source": [
    "AGENTS = [\n",
    "    agent,\n",
    "    opponent_agent,\n",
    "    opponent_agent,\n",
    "    opponent_agent,\n",
    "    opponent_agent\n",
    "]"
   ]
  },
  {
   "cell_type": "markdown",
   "metadata": {},
   "source": [
    "## Play and train the model"
   ]
  },
  {
   "cell_type": "code",
   "execution_count": null,
   "metadata": {},
   "outputs": [],
   "source": [
    "for ep in range(EPISODE_NUM):\n",
    "    game = Game(BATCH_SIZE + TEST_SIZE, AGENTS)\n",
    "    game.decide_napoleon()\n",
    "    game.discard_additional_cards()\n",
    "    for idx in range(10):\n",
    "        game.trick(idx)\n",
    "    game.check_result()\n",
    "\n",
    "    writer.add_scalar(\"epsilon\", agent.epsilon, controller.global_step)\n",
    "\n",
    "    controller.train_decl(game.recorder, BATCH_SIZE, TEST_SIZE, epoch=TRAIN_EPOCH)\n",
    "    controller.train(game.recorder, BATCH_SIZE, TEST_SIZE, epoch=TRAIN_EPOCH)\n",
    "\n",
    "    agent.epsilon *= EPSILON_DEC_RATE\n",
    "\n",
    "    if (ep + 1) % EVAL_INTERVALS == 0:\n",
    "        game = Game(EVAL_BOARD_NUM, AGENTS, log_enabled=True)\n",
    "        game.decide_napoleon()\n",
    "        game.discard_additional_cards()\n",
    "        for idx in range(10):\n",
    "            game.trick(idx)\n",
    "        game.check_result()\n",
    "\n",
    "        reward = np.sum(np.sum(game.recorder.rewards, axis=1), axis=1)[0] / EVAL_BOARD_NUM\n",
    "        win_rate = np.sum(game.recorder.winners, axis=1)[0] / EVAL_BOARD_NUM\n",
    "        total_win_rate = np.sum(game.recorder.winners) / EVAL_BOARD_NUM / 5\n",
    "\n",
    "        writer.add_scalar(\"eval/reward\", reward, controller.global_step)\n",
    "        writer.add_scalar(\"eval/win rate\", win_rate, controller.global_step)\n",
    "        writer.add_scalar(\"eval/win rate diff\", win_rate - total_win_rate, controller.global_step)\n",
    "\n",
    "    if (ep + 1) % AGENT_SWITCH_INTERVALS == 0:\n",
    "        opponent_controller = BrumaireController(h_params, device, None)\n",
    "        opponent_controller.copy_from_other(controller)\n",
    "        opponent_agent = BrumaireAgent(opponent_controller)\n",
    "        AGENTS = [\n",
    "            agent,\n",
    "            opponent_agent,\n",
    "            opponent_agent,\n",
    "            opponent_agent,\n",
    "            opponent_agent\n",
    "        ]"
   ]
  },
  {
   "cell_type": "markdown",
   "metadata": {},
   "source": [
    "## Save the model"
   ]
  },
  {
   "cell_type": "code",
   "execution_count": null,
   "metadata": {},
   "outputs": [],
   "source": [
    "controller.save(f\"./runs/{RUN_NAME}\")"
   ]
  }
 ],
 "metadata": {
  "kernelspec": {
   "display_name": ".venv",
   "language": "python",
   "name": "python3"
  },
  "language_info": {
   "codemirror_mode": {
    "name": "ipython",
    "version": 3
   },
   "file_extension": ".py",
   "mimetype": "text/x-python",
   "name": "python",
   "nbconvert_exporter": "python",
   "pygments_lexer": "ipython3",
   "version": "3.12.1"
  }
 },
 "nbformat": 4,
 "nbformat_minor": 2
}
