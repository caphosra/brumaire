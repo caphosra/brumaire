{
 "cells": [
  {
   "cell_type": "markdown",
   "metadata": {},
   "source": [
    "# Training Napoleon AI Brumaire"
   ]
  },
  {
   "cell_type": "code",
   "execution_count": 1,
   "metadata": {},
   "outputs": [],
   "source": [
    "import torch\n",
    "from torch.utils.tensorboard import SummaryWriter\n",
    "from datetime import datetime\n",
    "from tqdm.notebook import tqdm\n",
    "\n",
    "from brumaire.model import BrumaireHParams, BrumaireTrickModel\n",
    "from brumaire.controller import BrumaireController\n",
    "from brumaire.agent import RandomAgent, BrumaireAgent\n",
    "from brumaire.session import Game\n",
    "from brumaire.exp import ExperienceDB"
   ]
  },
  {
   "cell_type": "markdown",
   "metadata": {},
   "source": [
    "## Hyperparameters"
   ]
  },
  {
   "cell_type": "markdown",
   "metadata": {},
   "source": [
    "### Model constructions"
   ]
  },
  {
   "cell_type": "code",
   "execution_count": 2,
   "metadata": {},
   "outputs": [],
   "source": [
    "DECL_L1_NODE = 4000\n",
    "DECL_L2_NODE = 2000\n",
    "DECL_L3_NODE = 1000\n",
    "\n",
    "TRICK_L1_NODE = 4000\n",
    "TRICK_L2_NODE = 2000\n",
    "TRICK_L3_NODE = 1000"
   ]
  },
  {
   "cell_type": "markdown",
   "metadata": {},
   "source": [
    "### Training Parameters"
   ]
  },
  {
   "cell_type": "code",
   "execution_count": 3,
   "metadata": {},
   "outputs": [],
   "source": [
    "DECL_ITA = 0.01\n",
    "DECL_CLIP_GRAD = 10.0\n",
    "\n",
    "TRICK_ITA = 0.01\n",
    "TRICK_CLIP_GRAD = 10.0\n",
    "\n",
    "GAMMA = 0.97\n",
    "EPSILON_BEGINNING = 1.0\n",
    "EPSILON_LAST = 0.3"
   ]
  },
  {
   "cell_type": "markdown",
   "metadata": {},
   "source": [
    "### Training Plan"
   ]
  },
  {
   "cell_type": "code",
   "execution_count": 4,
   "metadata": {},
   "outputs": [],
   "source": [
    "EPISODE_NUM = 500\n",
    "\n",
    "TRAIN_EPOCH = 10\n",
    "TRAIN_SIZE = 400\n",
    "TEST_SIZE = 200\n",
    "\n",
    "RENEW_TARGET_INTERVALS = 100"
   ]
  },
  {
   "cell_type": "markdown",
   "metadata": {},
   "source": [
    "### Evaluations"
   ]
  },
  {
   "cell_type": "code",
   "execution_count": 5,
   "metadata": {},
   "outputs": [],
   "source": [
    "EVAL_BOARD_NUM = 10000\n",
    "EVAL_INTERVALS = 10"
   ]
  },
  {
   "cell_type": "markdown",
   "metadata": {},
   "source": [
    "Name this execution for logging."
   ]
  },
  {
   "cell_type": "code",
   "execution_count": 6,
   "metadata": {},
   "outputs": [],
   "source": [
    "RUN_NAME = f\"trial-{datetime.now().strftime('%Y-%m-%dT%H-%M-%S.%f')}\""
   ]
  },
  {
   "cell_type": "markdown",
   "metadata": {},
   "source": [
    "Note hyperparameters in a log. This can be viewed with Tensorboard."
   ]
  },
  {
   "cell_type": "code",
   "execution_count": 7,
   "metadata": {},
   "outputs": [],
   "source": [
    "writer = SummaryWriter(f\"./runs/{RUN_NAME}\")\n",
    "\n",
    "h_params = BrumaireHParams()\n",
    "h_params.decl_l1_node = DECL_L1_NODE\n",
    "h_params.decl_l2_node = DECL_L2_NODE\n",
    "h_params.decl_l3_node = DECL_L3_NODE\n",
    "h_params.decl_ita = DECL_ITA\n",
    "h_params.decl_clip_grad = DECL_CLIP_GRAD\n",
    "h_params.trick_l1_node = TRICK_L1_NODE\n",
    "h_params.trick_l2_node = TRICK_L2_NODE\n",
    "h_params.trick_l3_node = TRICK_L3_NODE\n",
    "h_params.trick_ita = TRICK_ITA\n",
    "h_params.trick_clip_grad = TRICK_CLIP_GRAD\n",
    "h_params.gamma = GAMMA\n",
    "h_params.write_summary(writer)"
   ]
  },
  {
   "cell_type": "markdown",
   "metadata": {},
   "source": [
    "Use a CUDA device if available."
   ]
  },
  {
   "cell_type": "code",
   "execution_count": 8,
   "metadata": {},
   "outputs": [],
   "source": [
    "device = torch.device(\"cuda\" if torch.cuda.is_available() else \"cpu\")"
   ]
  },
  {
   "cell_type": "markdown",
   "metadata": {},
   "source": [
    "## Setup an agent and its model"
   ]
  },
  {
   "cell_type": "code",
   "execution_count": 9,
   "metadata": {},
   "outputs": [],
   "source": [
    "controller = BrumaireController(h_params, device, writer)\n",
    "agent = BrumaireAgent(controller, epsilon=EPSILON_BEGINNING)\n",
    "opponent_agent = RandomAgent()"
   ]
  },
  {
   "cell_type": "code",
   "execution_count": 10,
   "metadata": {},
   "outputs": [],
   "source": [
    "AGENTS = [\n",
    "    agent,\n",
    "    opponent_agent,\n",
    "    opponent_agent,\n",
    "    opponent_agent,\n",
    "    opponent_agent\n",
    "]"
   ]
  },
  {
   "cell_type": "code",
   "execution_count": 11,
   "metadata": {},
   "outputs": [
    {
     "data": {
      "text/plain": [
       "<All keys matched successfully>"
      ]
     },
     "execution_count": 11,
     "metadata": {},
     "output_type": "execute_result"
    }
   ],
   "source": [
    "train_db = ExperienceDB()\n",
    "test_db = ExperienceDB()\n",
    "target = BrumaireTrickModel(h_params, device)\n",
    "target.load_state_dict(controller.trick_model.state_dict())"
   ]
  },
  {
   "cell_type": "markdown",
   "metadata": {},
   "source": [
    "## Play and train the model"
   ]
  },
  {
   "cell_type": "code",
   "execution_count": 12,
   "metadata": {},
   "outputs": [
    {
     "data": {
      "application/vnd.jupyter.widget-view+json": {
       "model_id": "1f3a3d0e2cf34d538995075e15517ba6",
       "version_major": 2,
       "version_minor": 0
      },
      "text/plain": [
       "  0%|          | 0/500 [00:00<?, ?it/s]"
      ]
     },
     "metadata": {},
     "output_type": "display_data"
    }
   ],
   "source": [
    "for ep in tqdm(range(EPISODE_NUM)):\n",
    "    agent.epsilon = EPSILON_BEGINNING + (EPSILON_LAST - EPSILON_BEGINNING) * ep / EPISODE_NUM\n",
    "    writer.add_scalar(\"epsilon\", agent.epsilon, controller.trick_global_step)\n",
    "\n",
    "    game = Game(TRAIN_SIZE + TEST_SIZE, AGENTS)\n",
    "    game.decide_napoleon()\n",
    "    game.discard_additional_cards()\n",
    "    for idx in range(10):\n",
    "        game.trick(idx)\n",
    "    game.check_result()\n",
    "\n",
    "    train_record, test_record = game.recorder.gen_batch(TRAIN_SIZE, TEST_SIZE)\n",
    "    train_db.import_from_record(0, train_record, target, GAMMA, device)\n",
    "    test_db.import_from_record(0, test_record, target, GAMMA, device)\n",
    "\n",
    "    controller.train_decl(train_db, test_db, TRAIN_SIZE, TEST_SIZE, epoch=TRAIN_EPOCH)\n",
    "    controller.train_trick(train_db, test_db, TRAIN_SIZE, TEST_SIZE, epoch=TRAIN_EPOCH)\n",
    "\n",
    "    if (ep + 1) % EVAL_INTERVALS == 0:\n",
    "        epsilon = agent.epsilon\n",
    "        agent.epsilon = 0\n",
    "\n",
    "        game = Game(EVAL_BOARD_NUM, AGENTS, log_enabled=True)\n",
    "        game.decide_napoleon()\n",
    "        game.discard_additional_cards()\n",
    "        for idx in range(10):\n",
    "            game.trick(idx)\n",
    "        game.check_result()\n",
    "\n",
    "        game.recorder.write_eval_result(0, writer, controller.trick_global_step)\n",
    "\n",
    "        agent.epsilon = epsilon\n",
    "\n",
    "    if (ep + 1) % RENEW_TARGET_INTERVALS == 0:\n",
    "        train_db = ExperienceDB()\n",
    "        test_db = ExperienceDB()\n",
    "        target = BrumaireTrickModel(h_params, device)\n",
    "        target.load_state_dict(controller.trick_model.state_dict())"
   ]
  },
  {
   "cell_type": "markdown",
   "metadata": {},
   "source": [
    "## Save the model"
   ]
  },
  {
   "cell_type": "code",
   "execution_count": 13,
   "metadata": {},
   "outputs": [],
   "source": [
    "controller.save(f\"./runs/{RUN_NAME}\")"
   ]
  }
 ],
 "metadata": {
  "kernelspec": {
   "display_name": ".venv",
   "language": "python",
   "name": "python3"
  },
  "language_info": {
   "codemirror_mode": {
    "name": "ipython",
    "version": 3
   },
   "file_extension": ".py",
   "mimetype": "text/x-python",
   "name": "python",
   "nbconvert_exporter": "python",
   "pygments_lexer": "ipython3",
   "version": "3.12.1"
  }
 },
 "nbformat": 4,
 "nbformat_minor": 2
}
