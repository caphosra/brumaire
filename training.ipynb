{
 "cells": [
  {
   "cell_type": "markdown",
   "metadata": {},
   "source": [
    "# Training Napoleon AI named Brumaire"
   ]
  },
  {
   "cell_type": "code",
   "execution_count": 1,
   "metadata": {},
   "outputs": [],
   "source": [
    "import torch\n",
    "import numpy as np\n",
    "from torch.utils.tensorboard import SummaryWriter\n",
    "from datetime import datetime\n",
    "\n",
    "from brumaire.model import BrumaireHParams, BrumaireController\n",
    "from brumaire.agent import RandomAgent, BrumaireAgent\n",
    "from brumaire.session import Game"
   ]
  },
  {
   "cell_type": "markdown",
   "metadata": {},
   "source": [
    "## Hyperparameters"
   ]
  },
  {
   "cell_type": "code",
   "execution_count": 2,
   "metadata": {},
   "outputs": [],
   "source": [
    "BOARD_NUM = 5000\n",
    "EPISODE_NUM = 20\n",
    "TRAIN_EPOCH = 10\n",
    "\n",
    "BATCH_RATE = 0.7\n",
    "TEST_RATE = 0.3\n",
    "\n",
    "LINEAR1_NODE_NUM = 4000\n",
    "LINEAR2_NODE_NUM = 2000\n",
    "LINEAR3_NODE_NUM = 1000\n",
    "\n",
    "ITA = 0.0005\n",
    "GAMMA = 0.95\n",
    "CLIP_GRAD = 10.0\n",
    "EPSILON = 0.8\n",
    "EPSILON_DEC_RATE = 0.8\n",
    "\n",
    "batch_size = int(BOARD_NUM * BATCH_RATE)\n",
    "test_size = int(BOARD_NUM * TEST_RATE)"
   ]
  },
  {
   "cell_type": "markdown",
   "metadata": {},
   "source": [
    "Note hyperparameters in a log. This can be viewed with Tensorboard."
   ]
  },
  {
   "cell_type": "code",
   "execution_count": 3,
   "metadata": {},
   "outputs": [],
   "source": [
    "writer = SummaryWriter(f\"./runs/trial-{datetime.now().strftime('%Y-%m-%dT%H-%M-%S.%f')}\")\n",
    "\n",
    "h_params = BrumaireHParams()\n",
    "h_params.linear1_node_num = LINEAR1_NODE_NUM\n",
    "h_params.linear2_node_num = LINEAR2_NODE_NUM\n",
    "h_params.linear3_node_num = LINEAR3_NODE_NUM\n",
    "h_params.ita = ITA\n",
    "h_params.gamma = GAMMA\n",
    "h_params.clip_grad = CLIP_GRAD\n",
    "h_params.write_summary(writer)"
   ]
  },
  {
   "cell_type": "markdown",
   "metadata": {},
   "source": [
    "Use a CUDA device if available."
   ]
  },
  {
   "cell_type": "code",
   "execution_count": 4,
   "metadata": {},
   "outputs": [],
   "source": [
    "device = torch.device(\"cuda\" if torch.cuda.is_available() else \"cpu\")"
   ]
  },
  {
   "cell_type": "markdown",
   "metadata": {},
   "source": [
    "## Setup an agent and its model"
   ]
  },
  {
   "cell_type": "code",
   "execution_count": 5,
   "metadata": {},
   "outputs": [],
   "source": [
    "\n",
    "controller = BrumaireController(h_params, device, writer)\n",
    "agent = BrumaireAgent(controller, epsilon=EPSILON)"
   ]
  },
  {
   "cell_type": "code",
   "execution_count": 6,
   "metadata": {},
   "outputs": [],
   "source": [
    "AGENTS = [\n",
    "    agent,\n",
    "    RandomAgent(),\n",
    "    RandomAgent(),\n",
    "    RandomAgent(),\n",
    "    RandomAgent()\n",
    "]"
   ]
  },
  {
   "cell_type": "markdown",
   "metadata": {},
   "source": [
    "## Play and train the model"
   ]
  },
  {
   "cell_type": "code",
   "execution_count": 7,
   "metadata": {},
   "outputs": [],
   "source": [
    "for _ in range(EPISODE_NUM):\n",
    "    game = Game(BOARD_NUM, AGENTS, log_enabled=True)\n",
    "    game.decide_napoleon()\n",
    "    game.discard_additional_cards()\n",
    "    for idx in range(10):\n",
    "        game.trick(idx)\n",
    "    game.check_result()\n",
    "\n",
    "    reward = np.sum(np.sum(game.recorder.rewards, axis=1), axis=1)[0] / BOARD_NUM\n",
    "    win_rate = np.sum(game.recorder.winners, axis=1)[0] / BOARD_NUM\n",
    "\n",
    "    writer.add_scalar(\"reward\", reward, controller.global_step)\n",
    "    writer.add_scalar(\"win rate\", reward, controller.global_step)\n",
    "    writer.add_scalar(\"epsilon\", agent.epsilon, controller.global_step)\n",
    "\n",
    "    controller.train(game.recorder, batch_size, test_size, epoch=TRAIN_EPOCH)\n",
    "    agent.epsilon *= EPSILON_DEC_RATE"
   ]
  }
 ],
 "metadata": {
  "kernelspec": {
   "display_name": ".venv",
   "language": "python",
   "name": "python3"
  },
  "language_info": {
   "codemirror_mode": {
    "name": "ipython",
    "version": 3
   },
   "file_extension": ".py",
   "mimetype": "text/x-python",
   "name": "python",
   "nbconvert_exporter": "python",
   "pygments_lexer": "ipython3",
   "version": "3.12.1"
  }
 },
 "nbformat": 4,
 "nbformat_minor": 2
}
